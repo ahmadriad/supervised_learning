{
 "cells": [
  {
   "cell_type": "code",
   "execution_count": 10,
   "id": "5b826cde",
   "metadata": {},
   "outputs": [],
   "source": [
    "from sklearn.datasets import load_digits\n",
    "import pandas as pd\n",
    "from sklearn.model_selection import KFold\n",
    "from sklearn.model_selection import train_test_split"
   ]
  },
  {
   "cell_type": "code",
   "execution_count": 11,
   "id": "6bd3a783",
   "metadata": {},
   "outputs": [],
   "source": [
    "data =load_digits()\n"
   ]
  },
  {
   "cell_type": "code",
   "execution_count": 13,
   "id": "a48cdaed",
   "metadata": {},
   "outputs": [
    {
     "data": {
      "text/plain": [
       "(1797, 1)"
      ]
     },
     "execution_count": 13,
     "metadata": {},
     "output_type": "execute_result"
    }
   ],
   "source": [
    "feature = pd.DataFrame(data.data)\n",
    "target = pd.DataFrame(data.target)\n",
    "feature.shape\n",
    "target.shape"
   ]
  },
  {
   "cell_type": "code",
   "execution_count": 14,
   "id": "541009ae",
   "metadata": {},
   "outputs": [
    {
     "name": "stdout",
     "output_type": "stream",
     "text": [
      "(1437, 64) (360, 64) (1437, 1) (360, 1)\n"
     ]
    }
   ],
   "source": [
    "feature_, feature_test, target_, target_test = train_test_split(feature,target,test_size=0.2,random_state=1)\n",
    "print(feature_.shape, feature_test.shape, target_.shape, target_test.shape)"
   ]
  },
  {
   "cell_type": "code",
   "execution_count": 15,
   "id": "c1777d79",
   "metadata": {},
   "outputs": [],
   "source": [
    "dev_size = 360/1437"
   ]
  },
  {
   "cell_type": "code",
   "execution_count": 16,
   "id": "59cbba62",
   "metadata": {},
   "outputs": [],
   "source": [
    "feature_train ,feature_dev,target_train, target_dev=train_test_split(feature_,target_,test_size=dev_size,random_state=1)"
   ]
  },
  {
   "cell_type": "code",
   "execution_count": 32,
   "id": "fe555972",
   "metadata": {},
   "outputs": [
    {
     "name": "stdout",
     "output_type": "stream",
     "text": [
      "(1077, 64) (360, 64) (360, 64)\n"
     ]
    }
   ],
   "source": [
    "print(feature_train.shape ,feature_dev.shape, feature_test.shape)"
   ]
  },
  {
   "cell_type": "code",
   "execution_count": 80,
   "id": "1fa34773",
   "metadata": {},
   "outputs": [],
   "source": [
    "kf = KFold(n_splits=10)\n",
    "splits = kf.split(feature_)"
   ]
  },
  {
   "cell_type": "code",
   "execution_count": 81,
   "id": "3a8bcb4b",
   "metadata": {},
   "outputs": [],
   "source": [
    "for training , validation in splits:\n",
    "    feature_training2 , feature_valuation2 = feature_.iloc[training,:],feature_.iloc[validation,:]\n",
    "    target_training2 , target_valuation2 = target_.iloc[training,:],target_.iloc[validation,:]"
   ]
  },
  {
   "cell_type": "code",
   "execution_count": 82,
   "id": "e62e197a",
   "metadata": {},
   "outputs": [
    {
     "name": "stdout",
     "output_type": "stream",
     "text": [
      "(1456, 64) (161, 64) (1456, 1) (161, 1)\n"
     ]
    }
   ],
   "source": [
    "print(feature_training2.shape , feature_valuation2.shape,target_training2.shape , target_valuation2.shape)"
   ]
  },
  {
   "cell_type": "code",
   "execution_count": 17,
   "id": "28272426",
   "metadata": {},
   "outputs": [],
   "source": [
    "from sklearn import tree\n",
    "from sklearn.metrics import accuracy_score \n",
    "from sklearn.metrics import precision_score\n",
    "from sklearn.metrics import recall_score\n",
    "from sklearn.metrics import confusion_matrix\n",
    "from sklearn.model_selection import train_test_split\n",
    "from sklearn.model_selection import KFold\n",
    "from sklearn.datasets import load_digits\n",
    "import pandas as pd\n",
    "import numpy as np"
   ]
  },
  {
   "cell_type": "code",
   "execution_count": 18,
   "id": "16bbd2e8",
   "metadata": {},
   "outputs": [],
   "source": [
    "data = load_digits()\n",
    "feature = pd.DataFrame(data.data)\n",
    "target = pd.DataFrame(data.target)\n"
   ]
  },
  {
   "cell_type": "code",
   "execution_count": 19,
   "id": "7216df19",
   "metadata": {},
   "outputs": [],
   "source": [
    "feature_training,feature_testing,target_training,target_test=train_test_split(feature,target,test_size=.2,random_state=0)"
   ]
  },
  {
   "cell_type": "code",
   "execution_count": 20,
   "id": "2c116404",
   "metadata": {},
   "outputs": [],
   "source": [
    "model = tree.DecisionTreeClassifier(random_state=0)\n",
    "model=model.fit(feature_training,target_training)\n",
    "target_pred = model.predict(feature_testing)"
   ]
  },
  {
   "cell_type": "code",
   "execution_count": 21,
   "id": "5f56703b",
   "metadata": {},
   "outputs": [
    {
     "data": {
      "text/html": [
       "<div>\n",
       "<style scoped>\n",
       "    .dataframe tbody tr th:only-of-type {\n",
       "        vertical-align: middle;\n",
       "    }\n",
       "\n",
       "    .dataframe tbody tr th {\n",
       "        vertical-align: top;\n",
       "    }\n",
       "\n",
       "    .dataframe thead th {\n",
       "        text-align: right;\n",
       "    }\n",
       "</style>\n",
       "<table border=\"1\" class=\"dataframe\">\n",
       "  <thead>\n",
       "    <tr style=\"text-align: right;\">\n",
       "      <th></th>\n",
       "      <th>0</th>\n",
       "    </tr>\n",
       "  </thead>\n",
       "  <tbody>\n",
       "    <tr>\n",
       "      <th>0</th>\n",
       "      <td>2</td>\n",
       "    </tr>\n",
       "    <tr>\n",
       "      <th>1</th>\n",
       "      <td>8</td>\n",
       "    </tr>\n",
       "    <tr>\n",
       "      <th>2</th>\n",
       "      <td>2</td>\n",
       "    </tr>\n",
       "    <tr>\n",
       "      <th>3</th>\n",
       "      <td>6</td>\n",
       "    </tr>\n",
       "    <tr>\n",
       "      <th>4</th>\n",
       "      <td>6</td>\n",
       "    </tr>\n",
       "  </tbody>\n",
       "</table>\n",
       "</div>"
      ],
      "text/plain": [
       "   0\n",
       "0  2\n",
       "1  8\n",
       "2  2\n",
       "3  6\n",
       "4  6"
      ]
     },
     "execution_count": 21,
     "metadata": {},
     "output_type": "execute_result"
    }
   ],
   "source": [
    "target_pred=pd.DataFrame(target_pred)\n",
    "target_pred.head()"
   ]
  },
  {
   "cell_type": "code",
   "execution_count": 9,
   "id": "3f3b108b",
   "metadata": {},
   "outputs": [
    {
     "data": {
      "text/html": [
       "<div>\n",
       "<style scoped>\n",
       "    .dataframe tbody tr th:only-of-type {\n",
       "        vertical-align: middle;\n",
       "    }\n",
       "\n",
       "    .dataframe tbody tr th {\n",
       "        vertical-align: top;\n",
       "    }\n",
       "\n",
       "    .dataframe thead th {\n",
       "        text-align: right;\n",
       "    }\n",
       "</style>\n",
       "<table border=\"1\" class=\"dataframe\">\n",
       "  <thead>\n",
       "    <tr style=\"text-align: right;\">\n",
       "      <th></th>\n",
       "      <th>0</th>\n",
       "    </tr>\n",
       "  </thead>\n",
       "  <tbody>\n",
       "    <tr>\n",
       "      <th>1081</th>\n",
       "      <td>2</td>\n",
       "    </tr>\n",
       "    <tr>\n",
       "      <th>1707</th>\n",
       "      <td>8</td>\n",
       "    </tr>\n",
       "    <tr>\n",
       "      <th>927</th>\n",
       "      <td>2</td>\n",
       "    </tr>\n",
       "    <tr>\n",
       "      <th>713</th>\n",
       "      <td>6</td>\n",
       "    </tr>\n",
       "    <tr>\n",
       "      <th>262</th>\n",
       "      <td>6</td>\n",
       "    </tr>\n",
       "  </tbody>\n",
       "</table>\n",
       "</div>"
      ],
      "text/plain": [
       "      0\n",
       "1081  2\n",
       "1707  8\n",
       "927   2\n",
       "713   6\n",
       "262   6"
      ]
     },
     "execution_count": 9,
     "metadata": {},
     "output_type": "execute_result"
    }
   ],
   "source": [
    "target_test.head()"
   ]
  },
  {
   "cell_type": "code",
   "execution_count": 96,
   "id": "c9907063",
   "metadata": {},
   "outputs": [],
   "source": [
    "confusion = confusion_matrix(target_test,feature_pred)\n"
   ]
  },
  {
   "cell_type": "code",
   "execution_count": 59,
   "id": "1cb5bcc6",
   "metadata": {},
   "outputs": [],
   "source": [
    "accuracy = accuracy_score(target_test,feature_pred)\n"
   ]
  },
  {
   "cell_type": "code",
   "execution_count": 60,
   "id": "34f65273",
   "metadata": {},
   "outputs": [],
   "source": [
    "target_test2 = target_test[:]\n",
    "target_test2[target_test2!=6]=1\n",
    "target_test2[target_test2==6]=0\n",
    "\n",
    "target_pred2=target_pred\n",
    "target_pred2[target_pred2!=6]=1\n",
    "target_pred2[target_pred2==6]=0"
   ]
  },
  {
   "cell_type": "code",
   "execution_count": 63,
   "id": "48b95430",
   "metadata": {},
   "outputs": [],
   "source": [
    "precision=precision_score(target_test2,target_pred2)\n",
    "recall=recall_score(target_test2,target_pred2)"
   ]
  },
  {
   "cell_type": "code",
   "execution_count": 64,
   "id": "5fc96ab7",
   "metadata": {},
   "outputs": [
    {
     "name": "stdout",
     "output_type": "stream",
     "text": [
      "accuracy: 84.72%\n",
      "precision: 98.4126984126984%\n",
      "recall: 98.10126582278481%\n"
     ]
    }
   ],
   "source": [
    "print(f'accuracy: {accuracy*100:.2f}%\\nprecision: {precision*100}%\\nrecall: {recall*100}%')"
   ]
  },
  {
   "cell_type": "code",
   "execution_count": 91,
   "id": "61e12bae",
   "metadata": {},
   "outputs": [],
   "source": [
    "from sklearn.datasets import load_digits\n",
    "from sklearn.metrics import accuracy_score\n",
    "from sklearn.model_selection import train_test_split\n",
    "from sklearn import tree\n",
    "import numpy as np"
   ]
  },
  {
   "cell_type": "code",
   "execution_count": 92,
   "id": "87bf3ca6",
   "metadata": {},
   "outputs": [],
   "source": [
    "data = load_digits()\n",
    "x = pd.DataFrame(data.data)\n",
    "y= pd.DataFrame(data.target)"
   ]
  },
  {
   "cell_type": "code",
   "execution_count": 93,
   "id": "2cbb8a22",
   "metadata": {},
   "outputs": [
    {
     "name": "stdout",
     "output_type": "stream",
     "text": [
      "(1437, 64) (180, 64) (180, 64) (1437, 1) (180, 1) (180, 1)\n"
     ]
    }
   ],
   "source": [
    "x_,x_test,y_,y_test =train_test_split(x,y,test_size=0.1,random_state=10)\n",
    "dev_size = (y_test.shape[0])/(y_.shape[0])\n",
    "x_train,x_dev,y_train,y_dev =train_test_split(x_,y_,test_size=dev_size,random_state=10)\n",
    "print(x_train.shape,x_dev.shape,x_test.shape,y_train.shape,y_dev.shape,y_test.shape)"
   ]
  },
  {
   "cell_type": "code",
   "execution_count": 94,
   "id": "2f9d2ffb",
   "metadata": {},
   "outputs": [
    {
     "name": "stdout",
     "output_type": "stream",
     "text": [
      "(180, 64) (180, 1)\n"
     ]
    }
   ],
   "source": [
    "np.random.seed(101)\n",
    "train_ind = np.random.randint(0,len(x_train),90)\n",
    "dev_ind = np.random.randint(0,len(x_dev),90)\n",
    "\n",
    "x_train_dev = pd.concat([x_train.iloc[train_ind,:],x_dev.iloc[dev_ind,:]])\n",
    "y_train_dev = pd.concat([y_train.iloc[train_ind,:],y_dev.iloc[dev_ind,:]])\n",
    "\n",
    "print(x_train_dev.shape,y_train_dev.shape)"
   ]
  },
  {
   "cell_type": "code",
   "execution_count": 95,
   "id": "6d6d65be",
   "metadata": {},
   "outputs": [],
   "source": [
    "model= tree.DecisionTreeClassifier(random_state=101)\n",
    "model=model.fit(x_train,y_train)"
   ]
  },
  {
   "cell_type": "code",
   "execution_count": 90,
   "id": "70dd7f5b",
   "metadata": {},
   "outputs": [
    {
     "name": "stdout",
     "output_type": "stream",
     "text": [
      "{'Train': 1.0, 'Train/dev': 0.9222222222222223, 'Validation': 0.8444444444444444, 'Test': 0.8611111111111112}\n"
     ]
    }
   ],
   "source": [
    "sets = [\"Train\",\"Train/dev\",\"Validation\",\"Test\"]\n",
    "x_train_set =[x_train,x_train_dev,x_dev,x_test]\n",
    "y_train_set =[y_train,y_train_dev,y_dev,y_test]\n",
    "sources = {}\n",
    "\n",
    "for y in range(0,len(x_train_set)):\n",
    "    pred = model.predict(x_train_set[y])\n",
    "    metrics = accuracy_score(y_train_set[y],pred)\n",
    "    sources[sets[y]]=metrics\n",
    "    \n",
    "print(sources)"
   ]
  },
  {
   "cell_type": "code",
   "execution_count": 143,
   "id": "1b53a872",
   "metadata": {},
   "outputs": [],
   "source": [
    "from sklearn.model_selection import train_test_split\n",
    "from sklearn.naive_bayes import GaussianNB\n",
    "import pandas as pd\n",
    "from sklearn.metrics import accuracy_score\n",
    "from sklearn.metrics import precision_score,recall_score"
   ]
  },
  {
   "cell_type": "code",
   "execution_count": 135,
   "id": "1a420219",
   "metadata": {},
   "outputs": [],
   "source": [
    "data =pd.read_csv(\"https://raw.githubusercontent.com/PacktWorkshops/The-Machine-Learning-Workshop/master/Chapter04/Activity4.01/census_income_dataset_preprocessed.csv\")"
   ]
  },
  {
   "cell_type": "code",
   "execution_count": 136,
   "id": "08c74a64",
   "metadata": {},
   "outputs": [],
   "source": [
    "feature = data.drop(\"target\",axis=1)\n",
    "target = data[\"target\"]\n"
   ]
  },
  {
   "cell_type": "code",
   "execution_count": 137,
   "id": "6a468f6e",
   "metadata": {},
   "outputs": [
    {
     "name": "stdout",
     "output_type": "stream",
     "text": [
      "(26047, 9) (3257, 9) (3257, 9) (26047,) (3257,) (3257,)\n"
     ]
    }
   ],
   "source": [
    "feature_,feature_test,target_,target_test = train_test_split(feature,target,test_size=0.1,random_state=101)\n",
    "dev_size = (feature_test.shape[0])/(feature_.shape[0])\n",
    "feature_train,feature_dev,target_train,target_dev = train_test_split(feature_,target_,test_size=dev_size,random_state=101)\n",
    "print(feature_train.shape,feature_dev.shape,feature_test.shape,target_train.shape,target_dev.shape,target_test.shape)"
   ]
  },
  {
   "cell_type": "code",
   "execution_count": 138,
   "id": "397880f6",
   "metadata": {},
   "outputs": [],
   "source": [
    "model_NB = GaussianNB()\n",
    "model_NB = model_NB.fit(feature_train,target_train)"
   ]
  },
  {
   "cell_type": "code",
   "execution_count": 140,
   "id": "5ac784f5",
   "metadata": {},
   "outputs": [
    {
     "name": "stdout",
     "output_type": "stream",
     "text": [
      "[0]\n"
     ]
    },
    {
     "name": "stderr",
     "output_type": "stream",
     "text": [
      "C:\\Users\\97155\\anaconda3\\lib\\site-packages\\sklearn\\base.py:450: UserWarning: X does not have valid feature names, but GaussianNB was fitted with feature names\n",
      "  warnings.warn(\n"
     ]
    }
   ],
   "source": [
    "prediction_NB = model_NB.predict([[39,6,13,4,0,2174,0,40,38]])\n",
    "print(prediction)"
   ]
  },
  {
   "cell_type": "code",
   "execution_count": 130,
   "id": "22fe28ab",
   "metadata": {},
   "outputs": [],
   "source": [
    "from sklearn.tree import DecisionTreeClassifier"
   ]
  },
  {
   "cell_type": "code",
   "execution_count": 141,
   "id": "c7246670",
   "metadata": {},
   "outputs": [
    {
     "name": "stdout",
     "output_type": "stream",
     "text": [
      "[0]\n"
     ]
    },
    {
     "name": "stderr",
     "output_type": "stream",
     "text": [
      "C:\\Users\\97155\\anaconda3\\lib\\site-packages\\sklearn\\base.py:450: UserWarning: X does not have valid feature names, but DecisionTreeClassifier was fitted with feature names\n",
      "  warnings.warn(\n"
     ]
    }
   ],
   "source": [
    "model_Tree = DecisionTreeClassifier()\n",
    "model_Tree = model_Tree.fit(feature_train,target_train)\n",
    "pred_DTC= model_Tree.predict([[39,6,13,4,0,2174,0,40,38]])\n",
    "print(pred_DTC)"
   ]
  },
  {
   "cell_type": "code",
   "execution_count": 132,
   "id": "dcba091c",
   "metadata": {},
   "outputs": [],
   "source": [
    "from sklearn.svm import SVC"
   ]
  },
  {
   "cell_type": "code",
   "execution_count": 142,
   "id": "af4b93ee",
   "metadata": {},
   "outputs": [
    {
     "name": "stdout",
     "output_type": "stream",
     "text": [
      "[0]\n"
     ]
    },
    {
     "name": "stderr",
     "output_type": "stream",
     "text": [
      "C:\\Users\\97155\\anaconda3\\lib\\site-packages\\sklearn\\base.py:450: UserWarning: X does not have valid feature names, but SVC was fitted with feature names\n",
      "  warnings.warn(\n"
     ]
    }
   ],
   "source": [
    "model_SVM = SVC()\n",
    "model_SVM = model_SVM.fit(feature_train,target_train)\n",
    "pred_SVM = model_SVM.predict([[39,6,13,4,0,2174,0,40,38]])\n",
    "print(pred)"
   ]
  },
  {
   "cell_type": "code",
   "execution_count": 183,
   "id": "e9b9bd12",
   "metadata": {},
   "outputs": [],
   "source": [
    "feature_sets  =[feature_train,feature_dev,feature_test]\n",
    "target_sets = [target_train,target_dev,target_test]\n",
    "\n",
    "metric ={\n",
    "    \"NB\" : {\"Ac\":[],\"Pr\": [],\"Re\":[]},\n",
    "    \"DT\" : {\"Ac\":[] , \"Pr\":[] , \"Re\":[]},\n",
    "    \"SVM\" : {\"Ac\":[] , \"Pr\":[] , \"Re\":[]},\n",
    "    \"NB\" : {\"Ac\":[] , \"Pr\":[] , \"Re\":[]}\n",
    "             }"
   ]
  },
  {
   "cell_type": "code",
   "execution_count": 184,
   "id": "ed1c296c",
   "metadata": {},
   "outputs": [],
   "source": [
    "\n",
    "for i in range(0,len(feature_sets)):\n",
    "    prediction_NB = model_NB.predict(feature_sets[i])\n",
    "    metric[\"NB\"][\"Ac\"].append(accuracy_score(target_sets[i],prediction_NB))\n",
    "    metric[\"NB\"][\"Pr\"].append(precision_score(target_sets[i],prediction_NB))\n",
    "    metric[\"NB\"][\"Re\"].append(recall_score(target_sets[i],prediction_NB))\n",
    "    \n",
    "    prediction_DT = model_Tree.predict(feature_sets[i])\n",
    "    metric[\"DT\"][\"Ac\"].append(accuracy_score(target_sets[i],prediction_DT))\n",
    "    metric[\"DT\"][\"Pr\"].append(precision_score(target_sets[i],prediction_DT))\n",
    "    metric[\"DT\"][\"Re\"].append(recall_score(target_sets[i],prediction_DT))\n",
    "    \n",
    "    prediction_SVM = model_SVM.predict(feature_sets[i])\n",
    "    metric[\"SVM\"][\"Ac\"].append(accuracy_score(target_sets[i],prediction_SVM))\n",
    "    metric[\"SVM\"][\"Pr\"].append(precision_score(target_sets[i],prediction_SVM))\n",
    "    metric[\"SVM\"][\"Re\"].append(recall_score(target_sets[i],prediction_SVM))\n",
    "    \n",
    "    "
   ]
  },
  {
   "cell_type": "code",
   "execution_count": 187,
   "id": "83fc8c60",
   "metadata": {},
   "outputs": [
    {
     "name": "stdout",
     "output_type": "stream",
     "text": [
      "{'NB': {'Ac': [0.7970975544208546, 0.7902978200798281, 0.8084126496776174], 'Pr': [0.6683725690890481, 0.6816901408450704, 0.6873239436619718], 'Re': [0.3123405612244898, 0.29802955665024633, 0.32232496697490093]}, 'DT': {'Ac': [0.9723960532882866, 0.8081056186674854, 0.8268345102855389], 'Pr': [0.9827856025039123, 0.6228646517739816, 0.6312925170068027], 'Re': [0.9011479591836735, 0.583743842364532, 0.6129458388375165]}, 'SVM': {'Ac': [0.8024724536414942, 0.7958243782622045, 0.8099478047282775], 'Pr': [0.7411210954214805, 0.7474747474747475, 0.7429577464788732], 'Re': [0.27614795918367346, 0.2733990147783251, 0.27873183619550856]}}\n"
     ]
    }
   ],
   "source": [
    "print(metric)"
   ]
  }
 ],
 "metadata": {
  "kernelspec": {
   "display_name": "Python 3 (ipykernel)",
   "language": "python",
   "name": "python3"
  },
  "language_info": {
   "codemirror_mode": {
    "name": "ipython",
    "version": 3
   },
   "file_extension": ".py",
   "mimetype": "text/x-python",
   "name": "python",
   "nbconvert_exporter": "python",
   "pygments_lexer": "ipython3",
   "version": "3.9.13"
  }
 },
 "nbformat": 4,
 "nbformat_minor": 5
}
